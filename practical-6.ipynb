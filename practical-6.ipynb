{
 "cells": [
  {
   "cell_type": "code",
   "execution_count": 1,
   "id": "c205f6f0",
   "metadata": {
    "_cell_guid": "b1076dfc-b9ad-4769-8c92-a6c4dae69d19",
    "_uuid": "8f2839f25d086af736a60e9eeb907d3b93b6e0e5",
    "execution": {
     "iopub.execute_input": "2023-10-15T07:08:17.782192Z",
     "iopub.status.busy": "2023-10-15T07:08:17.781865Z",
     "iopub.status.idle": "2023-10-15T07:08:18.042163Z",
     "shell.execute_reply": "2023-10-15T07:08:18.041010Z"
    },
    "papermill": {
     "duration": 0.265481,
     "end_time": "2023-10-15T07:08:18.043749",
     "exception": false,
     "start_time": "2023-10-15T07:08:17.778268",
     "status": "completed"
    },
    "tags": []
   },
   "outputs": [
    {
     "name": "stdout",
     "output_type": "stream",
     "text": [
      "[0 1 2 3 4 5 6 7 8 9]\n",
      "0    0\n",
      "1    1\n",
      "2    2\n",
      "3    3\n",
      "4    4\n",
      "5    5\n",
      "6    6\n",
      "7    7\n",
      "8    8\n",
      "9    9\n",
      "dtype: int64\n"
     ]
    }
   ],
   "source": [
    "# Write a Pandas program to implement following operation\n",
    "# to convert a NumPy array to a Pandas series\n",
    "\n",
    "# NAME: JOSHI VIRAJ\n",
    "# ENROLLMENT NO: 216270307094\n",
    "\n",
    "import numpy as np\n",
    "import pandas as pd\n",
    "\n",
    "arr = np.arange(10)\n",
    "print(arr)\n",
    "\n",
    "seri = pd.Series(arr)\n",
    "print(seri)"
   ]
  },
  {
   "cell_type": "code",
   "execution_count": 2,
   "id": "1a437896",
   "metadata": {
    "execution": {
     "iopub.execute_input": "2023-10-15T07:08:18.049941Z",
     "iopub.status.busy": "2023-10-15T07:08:18.049524Z",
     "iopub.status.idle": "2023-10-15T07:08:18.064400Z",
     "shell.execute_reply": "2023-10-15T07:08:18.062647Z"
    },
    "papermill": {
     "duration": 0.019255,
     "end_time": "2023-10-15T07:08:18.066313",
     "exception": false,
     "start_time": "2023-10-15T07:08:18.047058",
     "status": "completed"
    },
    "tags": []
   },
   "outputs": [
    {
     "name": "stdout",
     "output_type": "stream",
     "text": [
      "    name  enrollment no  sem\n",
      "0  user1              1    5\n",
      "1  user2              2    5\n",
      "2  user3              3    5\n",
      "3  user4              4    5\n",
      "\n",
      "0    user1\n",
      "1    user2\n",
      "2    user3\n",
      "3    user4\n",
      "Name: name, dtype: object\n"
     ]
    }
   ],
   "source": [
    "#  to convert the first column of a DataFrame as a Series\n",
    "\n",
    "# NAME: JOSHI VIRAJ\n",
    "# ENROLLMENT NO: 216270307094\n",
    "\n",
    "import pandas as pd\n",
    "\n",
    "df = {\n",
    "    'name' : [\"user1\", \"user2\", \"user3\", \"user4\"],\n",
    "    'enrollment no' : [1,2,3,4],\n",
    "    'sem' : [5,5,5,5]\n",
    "}\n",
    "\n",
    "df2 = pd.DataFrame(df)\n",
    "print(df2)\n",
    "\n",
    "print()\n",
    "\n",
    "df3 = df2.iloc[:, 0]\n",
    "print(df3)"
   ]
  },
  {
   "cell_type": "code",
   "execution_count": 3,
   "id": "5c72137b",
   "metadata": {
    "execution": {
     "iopub.execute_input": "2023-10-15T07:08:18.071033Z",
     "iopub.status.busy": "2023-10-15T07:08:18.070486Z",
     "iopub.status.idle": "2023-10-15T07:08:18.077907Z",
     "shell.execute_reply": "2023-10-15T07:08:18.077001Z"
    },
    "papermill": {
     "duration": 0.012062,
     "end_time": "2023-10-15T07:08:18.079864",
     "exception": false,
     "start_time": "2023-10-15T07:08:18.067802",
     "status": "completed"
    },
    "tags": []
   },
   "outputs": [
    {
     "name": "stdout",
     "output_type": "stream",
     "text": [
      "Original Series:\n",
      "0      1\n",
      "1      2\n",
      "2      3\n",
      "3      4\n",
      "4      5\n",
      "5      6\n",
      "6      7\n",
      "7      8\n",
      "8      9\n",
      "9     10\n",
      "10    11\n",
      "dtype: int64\n",
      "Mean of Series:\n",
      "6.0\n",
      "Standard deviation of Series:\n",
      "3.3166247903554\n"
     ]
    }
   ],
   "source": [
    "# to create the mean and standard deviation of the data of a given Series\n",
    "\n",
    "# NAME: JOSHI VIRAJ\n",
    "# ENROLLMENT NO: 216270307094\n",
    "\n",
    "import pandas as pd\n",
    "\n",
    "seri = pd.Series(data = [1,2,3,4,5,6,7,8,9,10,11])\n",
    "print(\"Original Series:\")\n",
    "print(seri)\n",
    "print(\"Mean of Series:\")\n",
    "print(seri.mean())\n",
    "print(\"Standard deviation of Series:\")\n",
    "print(seri.std())\n"
   ]
  },
  {
   "cell_type": "code",
   "execution_count": 4,
   "id": "ac0baa2b",
   "metadata": {
    "execution": {
     "iopub.execute_input": "2023-10-15T07:08:18.084359Z",
     "iopub.status.busy": "2023-10-15T07:08:18.084055Z",
     "iopub.status.idle": "2023-10-15T07:08:18.092800Z",
     "shell.execute_reply": "2023-10-15T07:08:18.091965Z"
    },
    "papermill": {
     "duration": 0.012691,
     "end_time": "2023-10-15T07:08:18.094389",
     "exception": false,
     "start_time": "2023-10-15T07:08:18.081698",
     "status": "completed"
    },
    "tags": []
   },
   "outputs": [
    {
     "name": "stdout",
     "output_type": "stream",
     "text": [
      "Unsorted series: \n",
      "0       100\n",
      "1        94\n",
      "2    python\n",
      "3       111\n",
      "4       400\n",
      "dtype: object\n",
      "\n",
      "Sorted Series: \n",
      "0       100\n",
      "3       111\n",
      "4       400\n",
      "1        94\n",
      "2    python\n",
      "dtype: object\n"
     ]
    }
   ],
   "source": [
    "# to sort a given Series\n",
    "\n",
    "# NAME: JOSHI VIRAJ\n",
    "# ENROLLMENT NO: 216270307094\n",
    "\n",
    "import pandas as pd\n",
    "seri = pd.Series(['100', '94', 'python', '111', '400'])\n",
    "print(\"Unsorted series: \")\n",
    "print(seri)\n",
    "print()\n",
    "s_seri = pd.Series(seri).sort_values()\n",
    "print(\"Sorted Series: \")\n",
    "print(s_seri)"
   ]
  }
 ],
 "metadata": {
  "kernelspec": {
   "display_name": "Python 3",
   "language": "python",
   "name": "python3"
  },
  "language_info": {
   "codemirror_mode": {
    "name": "ipython",
    "version": 3
   },
   "file_extension": ".py",
   "mimetype": "text/x-python",
   "name": "python",
   "nbconvert_exporter": "python",
   "pygments_lexer": "ipython3",
   "version": "3.10.12"
  },
  "papermill": {
   "default_parameters": {},
   "duration": 3.195983,
   "end_time": "2023-10-15T07:08:18.513945",
   "environment_variables": {},
   "exception": null,
   "input_path": "__notebook__.ipynb",
   "output_path": "__notebook__.ipynb",
   "parameters": {},
   "start_time": "2023-10-15T07:08:15.317962",
   "version": "2.4.0"
  }
 },
 "nbformat": 4,
 "nbformat_minor": 5
}
